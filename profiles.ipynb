{
 "cells": [
  {
   "cell_type": "code",
   "execution_count": 1,
   "metadata": {},
   "outputs": [],
   "source": [
    "# Import libraries\n",
    "\n",
    "\n",
    "\n",
    "\n",
    "import matplotlib.pyplot as plt\n",
    "import seaborn as sns\n",
    "\n",
    "import os \n",
    "import os.path\n",
    "import numpy as np\n",
    "from numpy import random\n",
    "import pandas as pd  # data frame operations  \n",
    "import matplotlib.pyplot as plt  # static plotting\n",
    "import matplotlib as mpl\n",
    "from matplotlib.ticker import FuncFormatter\n",
    "import matplotlib.dates as mdates\n",
    "from matplotlib.backends.backend_pdf import PdfPages\n",
    "from matplotlib.ticker import FormatStrFormatter\n",
    "from matplotlib.ticker import FixedLocator, FixedFormatter\n",
    "from datetime import datetime\n",
    "import seaborn as sns\n",
    "from matplotlib.pyplot import figure\n",
    "import warnings\n",
    "warnings.filterwarnings('ignore')\n"
   ]
  },
  {
   "cell_type": "code",
   "execution_count": 2,
   "metadata": {},
   "outputs": [],
   "source": [
    "# load diabetes dataset\n",
    "cdc_diabetes_df = pd.read_csv('cdc-nhanes-2007-20018.csv')"
   ]
  },
  {
   "cell_type": "code",
   "execution_count": 3,
   "metadata": {},
   "outputs": [
    {
     "name": "stdout",
     "output_type": "stream",
     "text": [
      "2137\n"
     ]
    }
   ],
   "source": [
    "\n",
    "df_diabetes_yes = cdc_diabetes_df.loc[(cdc_diabetes_df['DiabetesCond'] == 'Borderline') | (cdc_diabetes_df['DiabetesCond'] == 'Yes')] \n",
    "\n",
    "df_diabetes_pre = cdc_diabetes_df.loc[cdc_diabetes_df['Prediabetes'] == 'Yes']\n",
    "Ttl_pre = len(df_diabetes_pre)\n",
    "print(Ttl_pre)"
   ]
  },
  {
   "cell_type": "code",
   "execution_count": 4,
   "metadata": {},
   "outputs": [
    {
     "name": "stdout",
     "output_type": "stream",
     "text": [
      "5591\n"
     ]
    }
   ],
   "source": [
    "\n",
    "Ttl_yes = len(df_diabetes_yes)\n",
    "print(Ttl_yes)\n"
   ]
  },
  {
   "cell_type": "code",
   "execution_count": 5,
   "metadata": {},
   "outputs": [
    {
     "name": "stdout",
     "output_type": "stream",
     "text": [
      "6972\n"
     ]
    }
   ],
   "source": [
    "df_diabetes_no = cdc_diabetes_df.loc[(cdc_diabetes_df['DiabetesCond'] == 'No') & (cdc_diabetes_df['Prediabetes'] != 'Yes')] \n",
    "Ttl_no = len(df_diabetes_no)\n",
    "print(Ttl_no)"
   ]
  },
  {
   "cell_type": "code",
   "execution_count": 6,
   "metadata": {},
   "outputs": [],
   "source": [
    "key_names = {'FamilyHistory', 'Overweight',  'PoorDiet',  'LackOfPhysicalActivity', \n",
    "             'HighBloodPressure', 'HighBloodSugar',  'HighCholesterol', 'Hypoglycemic', 'ExtremeHunger', \n",
    "             'Tingling/NumbnessInHandsFeet',  'BlurredVision', 'IncreasedFatigue', 'GestationalDiabetes', \n",
    "             'FrequentUrination', 'Thirst', 'CravingForSweet', 'PolycysticOvarianSyndrome'}\n",
    "\n",
    "diabetes_features_yes = dict.fromkeys(key_names)"
   ]
  },
  {
   "cell_type": "code",
   "execution_count": 7,
   "metadata": {},
   "outputs": [],
   "source": [
    "diabetes_features_yes['FamilyHistory'] = df_diabetes_yes['FamilyHistory'].value_counts()['Family history']/(Ttl_yes/1000)\n",
    "diabetes_features_yes['Overweight'] = df_diabetes_yes['Overweight'].value_counts()['Overweight']/(Ttl_yes/1000)\n",
    "diabetes_features_yes['PoorDiet'] = df_diabetes_yes['PoorDiet'].value_counts()['Poor diet']/(Ttl_yes/1000)\n",
    "diabetes_features_yes['LackOfPhysicalActivity'] = df_diabetes_yes['LackOfPhysicalActivity'].value_counts()['Lack of physical activity']/(Ttl_yes/1000)\n",
    "diabetes_features_yes['HighBloodPressure'] = df_diabetes_yes['HighBloodPressure'].value_counts()['High blood pressure']/(Ttl_yes/1000)\n",
    "diabetes_features_yes['HighBloodSugar'] = df_diabetes_yes['HighBloodSugar'].value_counts()['High blood sugar']/(Ttl_yes/1000)\n",
    "diabetes_features_yes['HighCholesterol'] = df_diabetes_yes['HighCholesterol'].value_counts()['High cholesterol']/(Ttl_yes/1000)\n",
    "diabetes_features_yes['Hypoglycemic'] = df_diabetes_yes['Hypoglycemic'].value_counts()['Hypoglycemic']/(Ttl_yes/1000)\n",
    "diabetes_features_yes['ExtremeHunger'] = df_diabetes_yes['ExtremeHunger'].value_counts()['Extreme hunger']/(Ttl_yes/1000)\n",
    "diabetes_features_yes['Tingling/NumbnessInHandsFeet'] = df_diabetes_yes['Tingling/NumbnessInHandsFeet'].value_counts()['Tingling/numbness in hands or feet']/(Ttl_yes/1000)\n",
    "diabetes_features_yes['BlurredVision'] = df_diabetes_yes['BlurredVision'].value_counts()['Blurred vision']/(Ttl_yes/1000)\n",
    "diabetes_features_yes['IncreasedFatigue'] = df_diabetes_yes['IncreasedFatigue'].value_counts()['Increased fatigue']/(Ttl_yes/1000)\n",
    "diabetes_features_yes['GestationalDiabetes'] = df_diabetes_yes['GestationalDiabetes'].value_counts()['Gestational diabetes']/(Ttl_yes/1000)\n",
    "diabetes_features_yes['FrequentUrination'] = df_diabetes_yes['FrequentUrination'].value_counts()['Frequent urination']/(Ttl_yes/1000)\n",
    "diabetes_features_yes['Thirst'] = df_diabetes_yes['Thirst'].value_counts()['Thirst']/(Ttl_yes/1000)\n",
    "diabetes_features_yes['CravingForSweet'] = df_diabetes_yes['CravingForSweet'].value_counts()['Craving for sweet/eating a lot of sugar']/(Ttl_yes/1000)\n",
    "diabetes_features_yes['PolycysticOvarianSyndrome'] = df_diabetes_yes['PolycysticOvarianSyndrome'].value_counts()['Polycystic ovarian syndrome']/(Ttl_yes/1000)\n",
    "\n",
    "\n",
    "features_yes = list(diabetes_features_yes.keys())\n",
    "values_yes = list(diabetes_features_yes.values())"
   ]
  },
  {
   "cell_type": "code",
   "execution_count": 8,
   "metadata": {},
   "outputs": [
    {
     "name": "stdout",
     "output_type": "stream",
     "text": [
      "{'LackOfPhysicalActivity': 15.20300482918977, 'ExtremeHunger': 3.219459846181363, 'HighCholesterol': 13.593274906099087, 'BlurredVision': 6.438919692362726, 'HighBloodSugar': 14.129851547129315, 'IncreasedFatigue': 8.764085136827044, 'CravingForSweet': 0.8942944017170452, 'PoorDiet': 25.040243248077267, 'FamilyHistory': 53.478805222679306, 'Hypoglycemic': 2.6828832051511355, 'Tingling/NumbnessInHandsFeet': 9.30066177785727, 'FrequentUrination': 5.72348417098909, 'GestationalDiabetes': 2.5040243248077267, 'Thirst': 5.902343051332498, 'HighBloodPressure': 19.674476837774996, 'PolycysticOvarianSyndrome': 0.17885888034340905, 'Overweight': 36.84492935074226}\n"
     ]
    }
   ],
   "source": [
    "print(diabetes_features_yes)"
   ]
  },
  {
   "cell_type": "code",
   "execution_count": 9,
   "metadata": {},
   "outputs": [
    {
     "name": "stdout",
     "output_type": "stream",
     "text": [
      "{'LackOfPhysicalActivity': 113.71080954609265, 'ExtremeHunger': 24.333177351427235, 'HighCholesterol': 88.90968647636875, 'BlurredVision': 45.390734674777725, 'HighBloodSugar': 60.364997660271406, 'IncreasedFatigue': 58.96116050538138, 'CravingForSweet': 3.7435657463734207, 'PoorDiet': 155.35797847449695, 'FamilyHistory': 329.43378568086104, 'Hypoglycemic': 12.634534394010295, 'Tingling/NumbnessInHandsFeet': 54.749649040711276, 'FrequentUrination': 42.58306036499766, 'GestationalDiabetes': 14.974262985493683, 'Thirst': 39.30744033692092, 'HighBloodPressure': 122.13383247543285, 'PolycysticOvarianSyndrome': 1.4038371548900328, 'Overweight': 249.41506785212914}\n"
     ]
    }
   ],
   "source": [
    "diabetes_features_pre = dict.fromkeys(key_names)\n",
    "\n",
    "diabetes_features_pre['FamilyHistory'] = df_diabetes_pre['FamilyHistory'].value_counts()['Family history']/(Ttl_pre/1000)\n",
    "diabetes_features_pre['Overweight'] = df_diabetes_pre['Overweight'].value_counts()['Overweight']/(Ttl_pre/1000)\n",
    "diabetes_features_pre['PoorDiet'] = df_diabetes_pre['PoorDiet'].value_counts()['Poor diet']/(Ttl_pre/1000)\n",
    "diabetes_features_pre['LackOfPhysicalActivity'] = df_diabetes_pre['LackOfPhysicalActivity'].value_counts()['Lack of physical activity']/(Ttl_pre/1000)\n",
    "diabetes_features_pre['HighBloodPressure'] = df_diabetes_pre['HighBloodPressure'].value_counts()['High blood pressure']/(Ttl_pre/1000)\n",
    "diabetes_features_pre['HighBloodSugar'] = df_diabetes_pre['HighBloodSugar'].value_counts()['High blood sugar']/(Ttl_pre/1000)\n",
    "diabetes_features_pre['HighCholesterol'] = df_diabetes_pre['HighCholesterol'].value_counts()['High cholesterol']/(Ttl_pre/1000)\n",
    "diabetes_features_pre['Hypoglycemic'] = df_diabetes_pre['Hypoglycemic'].value_counts()['Hypoglycemic']/(Ttl_pre/1000)\n",
    "diabetes_features_pre['ExtremeHunger'] = df_diabetes_pre['ExtremeHunger'].value_counts()['Extreme hunger']/(Ttl_pre/1000)\n",
    "diabetes_features_pre['Tingling/NumbnessInHandsFeet'] = df_diabetes_pre['Tingling/NumbnessInHandsFeet'].value_counts()['Tingling/numbness in hands or feet']/(Ttl_pre/1000)\n",
    "diabetes_features_pre['BlurredVision'] = df_diabetes_pre['BlurredVision'].value_counts()['Blurred vision']/(Ttl_pre/1000)\n",
    "diabetes_features_pre['IncreasedFatigue'] = df_diabetes_pre['IncreasedFatigue'].value_counts()['Increased fatigue']/(Ttl_pre/1000)\n",
    "diabetes_features_pre['GestationalDiabetes'] = df_diabetes_pre['GestationalDiabetes'].value_counts()['Gestational diabetes']/(Ttl_pre/1000)\n",
    "diabetes_features_pre['FrequentUrination'] = df_diabetes_pre['FrequentUrination'].value_counts()['Frequent urination']/(Ttl_pre/1000)\n",
    "diabetes_features_pre['Thirst'] = df_diabetes_pre['Thirst'].value_counts()['Thirst']/(Ttl_pre/1000)\n",
    "diabetes_features_pre['CravingForSweet'] = df_diabetes_pre['CravingForSweet'].value_counts()['Craving for sweet/eating a lot of sugar']/(Ttl_pre/1000)\n",
    "diabetes_features_pre['PolycysticOvarianSyndrome'] = df_diabetes_pre['PolycysticOvarianSyndrome'].value_counts()['Polycystic ovarian syndrome']/(Ttl_pre/1000)\n",
    "values_pre = list(diabetes_features_pre.values())\n",
    "print(diabetes_features_pre)"
   ]
  },
  {
   "cell_type": "code",
   "execution_count": 10,
   "metadata": {},
   "outputs": [
    {
     "name": "stdout",
     "output_type": "stream",
     "text": [
      "{'LackOfPhysicalActivity': 85.19793459552496, 'ExtremeHunger': 21.80149168100975, 'HighCholesterol': 35.57085484796328, 'BlurredVision': 28.255880665519218, 'HighBloodSugar': 9.609868043602983, 'IncreasedFatigue': 41.73838209982788, 'CravingForSweet': 5.450372920252438, 'PoorDiet': 163.3677567412507, 'FamilyHistory': 548.3362019506598, 'Hypoglycemic': 11.044176706827308, 'Tingling/NumbnessInHandsFeet': 43.31612162937464, 'FrequentUrination': 27.395295467584624, 'GestationalDiabetes': 10.470453241537578, 'Thirst': 26.10441767068273, 'HighBloodPressure': 69.5639701663798, 'PolycysticOvarianSyndrome': 0.7171543316121629, 'Overweight': 218.15834767641996}\n"
     ]
    }
   ],
   "source": [
    "diabetes_features_no = dict.fromkeys(key_names)\n",
    "\n",
    "diabetes_features_no['FamilyHistory'] = df_diabetes_no['FamilyHistory'].value_counts()['Family history']/(Ttl_no/1000)\n",
    "diabetes_features_no['Overweight'] = df_diabetes_no['Overweight'].value_counts()['Overweight']/(Ttl_no/1000)\n",
    "diabetes_features_no['PoorDiet'] = df_diabetes_no['PoorDiet'].value_counts()['Poor diet']/(Ttl_no/1000)\n",
    "diabetes_features_no['LackOfPhysicalActivity'] = df_diabetes_no['LackOfPhysicalActivity'].value_counts()['Lack of physical activity']/(Ttl_no/1000)\n",
    "diabetes_features_no['HighBloodPressure'] = df_diabetes_no['HighBloodPressure'].value_counts()['High blood pressure']/(Ttl_no/1000)\n",
    "diabetes_features_no['HighBloodSugar'] = df_diabetes_no['HighBloodSugar'].value_counts()['High blood sugar']/(Ttl_no/1000)\n",
    "diabetes_features_no['HighCholesterol'] = df_diabetes_no['HighCholesterol'].value_counts()['High cholesterol']/(Ttl_no/1000)\n",
    "diabetes_features_no['Hypoglycemic'] = df_diabetes_no['Hypoglycemic'].value_counts()['Hypoglycemic']/(Ttl_no/1000)\n",
    "diabetes_features_no['ExtremeHunger'] = df_diabetes_no['ExtremeHunger'].value_counts()['Extreme hunger']/(Ttl_no/1000)\n",
    "diabetes_features_no['Tingling/NumbnessInHandsFeet'] = df_diabetes_no['Tingling/NumbnessInHandsFeet'].value_counts()['Tingling/numbness in hands or feet']/(Ttl_no/1000)\n",
    "diabetes_features_no['BlurredVision'] = df_diabetes_no['BlurredVision'].value_counts()['Blurred vision']/(Ttl_no/1000)\n",
    "diabetes_features_no['IncreasedFatigue'] = df_diabetes_no['IncreasedFatigue'].value_counts()['Increased fatigue']/(Ttl_no/1000)\n",
    "diabetes_features_no['GestationalDiabetes'] = df_diabetes_no['GestationalDiabetes'].value_counts()['Gestational diabetes']/(Ttl_no/1000)\n",
    "diabetes_features_no['FrequentUrination'] = df_diabetes_no['FrequentUrination'].value_counts()['Frequent urination']/(Ttl_no/1000)\n",
    "diabetes_features_no['Thirst'] = df_diabetes_no['Thirst'].value_counts()['Thirst']/(Ttl_no/1000)\n",
    "diabetes_features_no['CravingForSweet'] = df_diabetes_no['CravingForSweet'].value_counts()['Craving for sweet/eating a lot of sugar']/(Ttl_no/1000)\n",
    "diabetes_features_no['PolycysticOvarianSyndrome'] = df_diabetes_no['PolycysticOvarianSyndrome'].value_counts()['Polycystic ovarian syndrome']/(Ttl_no/1000)\n",
    "values_no = list(diabetes_features_no.values())\n",
    "print(diabetes_features_no)"
   ]
  },
  {
   "cell_type": "code",
   "execution_count": 11,
   "metadata": {},
   "outputs": [
    {
     "name": "stdout",
     "output_type": "stream",
     "text": [
      "['LackOfPhysicalActivity', 'ExtremeHunger', 'HighCholesterol', 'BlurredVision', 'HighBloodSugar', 'IncreasedFatigue', 'CravingForSweet', 'PoorDiet', 'FamilyHistory', 'Hypoglycemic', 'Tingling/NumbnessInHandsFeet', 'FrequentUrination', 'GestationalDiabetes', 'Thirst', 'HighBloodPressure', 'PolycysticOvarianSyndrome', 'Overweight']\n"
     ]
    }
   ],
   "source": [
    "print(features_yes)"
   ]
  },
  {
   "cell_type": "code",
   "execution_count": 12,
   "metadata": {},
   "outputs": [
    {
     "name": "stdout",
     "output_type": "stream",
     "text": [
      "                               0\n",
      "0         LackOfPhysicalActivity\n",
      "1                  ExtremeHunger\n",
      "2                HighCholesterol\n",
      "3                  BlurredVision\n",
      "4                 HighBloodSugar\n",
      "5               IncreasedFatigue\n",
      "6                CravingForSweet\n",
      "7                       PoorDiet\n",
      "8                  FamilyHistory\n",
      "9                   Hypoglycemic\n",
      "10  Tingling/NumbnessInHandsFeet\n",
      "11             FrequentUrination\n",
      "12           GestationalDiabetes\n",
      "13                        Thirst\n",
      "14             HighBloodPressure\n",
      "15     PolycysticOvarianSyndrome\n",
      "16                    Overweight\n"
     ]
    }
   ],
   "source": [
    "df_features_yes = pd.DataFrame.from_dict(features_yes)\n",
    "df_values_yes = pd.DataFrame.from_dict(values_yes)\n",
    "df_values_pre = pd.DataFrame.from_dict(values_pre)\n",
    "df_values_no = pd.DataFrame.from_dict(values_no)\n",
    "print(df_features_yes)\n"
   ]
  },
  {
   "cell_type": "code",
   "execution_count": 13,
   "metadata": {},
   "outputs": [],
   "source": [
    "df_values_pre = pd.DataFrame.from_dict(values_pre)"
   ]
  },
  {
   "cell_type": "code",
   "execution_count": null,
   "metadata": {},
   "outputs": [],
   "source": []
  },
  {
   "cell_type": "code",
   "execution_count": 14,
   "metadata": {},
   "outputs": [
    {
     "name": "stdout",
     "output_type": "stream",
     "text": [
      "                         Feature   Diabetes  PreDiabetes  No Diabetes\n",
      "0                  BlurredVision   6.438920    45.390735    28.255881\n",
      "1                CravingForSweet   0.894294     3.743566     5.450373\n",
      "2                  ExtremeHunger   3.219460    24.333177    21.801492\n",
      "3                  FamilyHistory  53.478805   329.433786   548.336202\n",
      "4              FrequentUrination   5.723484    42.583060    27.395295\n",
      "5            GestationalDiabetes   2.504024    14.974263    10.470453\n",
      "6              HighBloodPressure  19.674477   122.133832    69.563970\n",
      "7                 HighBloodSugar  14.129852    60.364998     9.609868\n",
      "8                HighCholesterol  13.593275    88.909686    35.570855\n",
      "9                   Hypoglycemic   2.682883    12.634534    11.044177\n",
      "10              IncreasedFatigue   8.764085    58.961161    41.738382\n",
      "11        LackOfPhysicalActivity  15.203005   113.710810    85.197935\n",
      "12                    Overweight  36.844929   249.415068   218.158348\n",
      "13     PolycysticOvarianSyndrome   0.178859     1.403837     0.717154\n",
      "14                      PoorDiet  25.040243   155.357978   163.367757\n",
      "15                        Thirst   5.902343    39.307440    26.104418\n",
      "16  Tingling/NumbnessInHandsFeet   9.300662    54.749649    43.316122\n"
     ]
    }
   ],
   "source": [
    "pd_all = pd.concat([df_features_yes, df_values_yes, df_values_pre, df_values_no], axis=1)\n",
    "pd_all.columns =['Feature', 'Diabetes', 'PreDiabetes', 'No Diabetes']\n",
    "pd_all.sort_values(by='Feature', inplace = True, ignore_index=True)\n",
    "print(pd_all)"
   ]
  },
  {
   "cell_type": "code",
   "execution_count": null,
   "metadata": {},
   "outputs": [],
   "source": []
  },
  {
   "cell_type": "code",
   "execution_count": 289,
   "metadata": {},
   "outputs": [
    {
     "data": {
      "text/plain": [
       "<function matplotlib.pyplot.show(*args, **kw)>"
      ]
     },
     "execution_count": 289,
     "metadata": {},
     "output_type": "execute_result"
    },
    {
     "data": {
      "image/png": "[encoded data removed]",
      "text/plain": [
       "<Figure size 720x360 with 1 Axes>"
      ]
     },
     "metadata": {
      "needs_background": "light"
     },
     "output_type": "display_data"
    }
   ],
   "source": [
    "ax = pd_all.plot( x='Feature', color = ['#b3cede', '#3874a5','navy'])\n",
    "ax.spines['top'].set_visible(False)\n",
    "ax.spines['right'].set_visible(False)\n",
    "ax.set_title(label=\"Self-Reported Characteristics\", fontsize=15, loc='center')\n",
    "ax.yaxis.set_major_formatter(mpl.ticker.StrMethodFormatter('{x:,.0f}'))\n",
    "ax.yaxis.set_minor_formatter(mpl.ticker.StrMethodFormatter('{x:,.0f}'))\n",
    "ax.set_xlabel(' ')\n",
    "ax.set_ylabel('Counts per 1000',fontsize=12)\n",
    "plt.rcParams[\"figure.figsize\"] = [15, 5]\n",
    "plt.rcParams[\"figure.autolayout\"] = True\n",
    "ax.set_xticks( range(len(pd_all.Feature)),[pd_all.Feature] )\n",
    "x_formatter = FixedFormatter(['Blurred Vision','Craving For Sweet','Extreme Hunger','Family History','Frequent Urination','Gestational Diabetes',\n",
    "                   'High Blood Pressure','High Blood Sugar','High Cholesterol','Hypoglycemic','Increased Fatigue','Lack Of Physical Activity',\n",
    "                  'Overweight','Polycystic Ovarian Syndrome','Poor Diet','Thirst','Tingling/Numbness In Hands/Feet'])\n",
    "x_locator = FixedLocator([0,1,2,3,4,5,6,7,8,9,10,11,12,13,14,15,16])\n",
    "ax.xaxis.set_major_formatter(x_formatter)\n",
    "ax.xaxis.set_major_locator(x_locator)\n",
    "plt.xticks(rotation=45,fontsize=12, ha='right')\n",
    "plt.legend(frameon=False, fontsize=12,bbox_to_anchor=(1, 1))\n",
    "#plt.savefig('Characteristics.png', bbox_inches='tight')\n",
    "plt.show"
   ]
  },
  {
   "cell_type": "code",
   "execution_count": 205,
   "metadata": {},
   "outputs": [],
   "source": [
    "df_profile = cdc_diabetes_df[['DiabetesCond','Prediabetes','Gender','Age_y','Race_y','CurrentSelfReportedHeight(inches)',\n",
    "                              'CurrentSelfReportedWeight(pounds)','GeneralHealthCond','AnnualHousehldIncome']]"
   ]
  },
  {
   "cell_type": "code",
   "execution_count": 206,
   "metadata": {},
   "outputs": [],
   "source": [
    "df_profile.rename(columns = {'Age_y':'Age', 'Race_y':'Race','CurrentSelfReportedHeight(inches)':'Height',\n",
    "                            'CurrentSelfReportedWeight(pounds)':'Weight','GeneralHealthCond':'Health'},inplace=True)"
   ]
  },
  {
   "cell_type": "code",
   "execution_count": 207,
   "metadata": {},
   "outputs": [],
   "source": [
    "#df_profile.convert_objects(convert_numeric=True, inplace = True)\n",
    "#df['range'] = df['range'].str.replace(',','-')\n",
    "df_profile['Height'].replace({'Do not know': 0}, inplace=True)\n",
    "df_profile['Weight'].replace({'Do not know': 0}, inplace=True)\n",
    "df_profile['Height'].replace({'Refused': 0}, inplace=True)\n",
    "df_profile['Weight'].replace({'Refused': 0}, inplace=True)\n",
    "df_profile['Health'].replace({'Refused': 'Unknown'}, inplace=True)\n",
    "df_profile['Health'].replace({'Do not know': 'Unknown'}, inplace=True)"
   ]
  },
  {
   "cell_type": "code",
   "execution_count": 208,
   "metadata": {},
   "outputs": [],
   "source": [
    "df_profile['Height']=df_profile['Height'].fillna(0)\n",
    "df_profile['Weight']=df_profile['Weight'].fillna(0)"
   ]
  },
  {
   "cell_type": "code",
   "execution_count": 209,
   "metadata": {},
   "outputs": [],
   "source": [
    "df_profile['Height'] = pd.to_numeric(df_profile['Height'])\n",
    "df_profile['Weight'] = pd.to_numeric(df_profile['Weight'])\n",
    "df_profile['Height']=df_profile['Height'].replace(0,df_profile['Height'].mean())\n",
    "df_profile['Weight']=df_profile['Weight'].replace(0,df_profile['Weight'].mean())"
   ]
  },
  {
   "cell_type": "code",
   "execution_count": 210,
   "metadata": {},
   "outputs": [],
   "source": [
    "df_profile['BMI']=(df_profile.Weight/df_profile.Height/df_profile.Height)*703"
   ]
  },
  {
   "cell_type": "code",
   "execution_count": 211,
   "metadata": {},
   "outputs": [],
   "source": [
    "df_profile['AnnualHousehldIncome'].replace({'Do not know': 'Unknown'}, inplace=True)\n",
    "df_profile['AnnualHousehldIncome'].replace({'Refused': 'Unknown'}, inplace=True)\n",
    "\n",
    "df_profile['AnnualHousehldIncome'].replace({'$25,000 to $34,999': '25,000 to 49,999'}, inplace=True)\n",
    "df_profile['AnnualHousehldIncome'].replace({'$45,000 to $54,999': '25,000 to 49,999'}, inplace=True)\n",
    "df_profile['AnnualHousehldIncome'].replace({'$35,000 to $44,999': '25,000 to 49,999'}, inplace=True)\n",
    "df_profile['AnnualHousehldIncome'].replace({'$20,000 and Over': '25,000 to 49,999'}, inplace=True)\n",
    "\n",
    "\n",
    "df_profile['AnnualHousehldIncome'].replace({'$0 to $4,999': '0 to 24,999'}, inplace=True)\n",
    "df_profile['AnnualHousehldIncome'].replace({'Under $20,000': '0 to 24,999'}, inplace=True)\n",
    "df_profile['AnnualHousehldIncome'].replace({'$15,000 to $19,999': '0 to 24,999'}, inplace=True)\n",
    "df_profile['AnnualHousehldIncome'].replace({'$10,000 to $14,999': '0 to 24,999'}, inplace=True)\n",
    "df_profile['AnnualHousehldIncome'].replace({'$5,000 to $9,999': '0 to 24,999'}, inplace=True)\n",
    "df_profile['AnnualHousehldIncome'].replace({'$20,000 to $24,999': '0 to 24,999'}, inplace=True)\n",
    "\n",
    "df_profile['AnnualHousehldIncome'].replace({'$55,000 to $64,999': '50,000 to 74,999'}, inplace=True)\n",
    "df_profile['AnnualHousehldIncome'].replace({'$65,000 to $74,999': '50,000 to 74,999'}, inplace=True)\n",
    "\n",
    "df_profile['AnnualHousehldIncome'].replace({'$75,000 to $99,999': '75,000 to 99,999'}, inplace=True)\n",
    "df_profile['AnnualHousehldIncome'].replace({'$100,000 and Over': '100,000 and Over'}, inplace=True)\n",
    "\n",
    "df_profile['AnnualHousehldIncome']=df_profile['AnnualHousehldIncome'].fillna('Unknown')"
   ]
  },
  {
   "cell_type": "code",
   "execution_count": 212,
   "metadata": {},
   "outputs": [],
   "source": [
    "df_profile['Age Group'] = pd.cut(df_profile.Age,bins=[0,15,30,45,60,75,150],labels=['Under 16','16-30','31-45','46-60','61-75','Over 75'])"
   ]
  },
  {
   "cell_type": "code",
   "execution_count": 213,
   "metadata": {},
   "outputs": [],
   "source": [
    "#https://www.northshore.org/bariatric-surgery-services/obesity/?gclid=CjwKCAjw2vOLBhBPEiwAjEeK9g0Km7nD4B6cBJZwfRtzctuirNv1le2VghUkSzOSiwAFSE6n5vAglRoC8JMQAvD_BwE&gclsrc=aw.ds\n",
    "df_profile['BMI Group'] = pd.cut(df_profile.BMI,bins=[0,19,24.9,29.9,34.9,39.9,49.9,80],labels=['Underweight','Ideal','Overweight','Obese','Severely Obese','Morbidly Obese','Super Obese'])\n"
   ]
  },
  {
   "cell_type": "code",
   "execution_count": 214,
   "metadata": {},
   "outputs": [
    {
     "data": {
      "text/html": [
       "<div>\n",
       "<style scoped>\n",
       "    .dataframe tbody tr th:only-of-type {\n",
       "        vertical-align: middle;\n",
       "    }\n",
       "\n",
       "    .dataframe tbody tr th {\n",
       "        vertical-align: top;\n",
       "    }\n",
       "\n",
       "    .dataframe thead th {\n",
       "        text-align: right;\n",
       "    }\n",
       "</style>\n",
       "<table border=\"1\" class=\"dataframe\">\n",
       "  <thead>\n",
       "    <tr style=\"text-align: right;\">\n",
       "      <th></th>\n",
       "      <th>DiabetesCond</th>\n",
       "      <th>Prediabetes</th>\n",
       "      <th>Gender</th>\n",
       "      <th>Age</th>\n",
       "      <th>Race</th>\n",
       "      <th>Height</th>\n",
       "      <th>Weight</th>\n",
       "      <th>Health</th>\n",
       "      <th>AnnualHousehldIncome</th>\n",
       "      <th>BMI</th>\n",
       "      <th>Age Group</th>\n",
       "      <th>BMI Group</th>\n",
       "    </tr>\n",
       "  </thead>\n",
       "  <tbody>\n",
       "    <tr>\n",
       "      <th>0</th>\n",
       "      <td>No</td>\n",
       "      <td>No</td>\n",
       "      <td>Female</td>\n",
       "      <td>62</td>\n",
       "      <td>Other Race</td>\n",
       "      <td>62.00000</td>\n",
       "      <td>308.000000</td>\n",
       "      <td>Fair</td>\n",
       "      <td>25,000 to 49,999</td>\n",
       "      <td>56.327784</td>\n",
       "      <td>61-75</td>\n",
       "      <td>Super Obese</td>\n",
       "    </tr>\n",
       "    <tr>\n",
       "      <th>1</th>\n",
       "      <td>Yes</td>\n",
       "      <td>NaN</td>\n",
       "      <td>Male</td>\n",
       "      <td>71</td>\n",
       "      <td>Non-Hispanic White</td>\n",
       "      <td>68.00000</td>\n",
       "      <td>190.000000</td>\n",
       "      <td>Good</td>\n",
       "      <td>0 to 24,999</td>\n",
       "      <td>28.886246</td>\n",
       "      <td>61-75</td>\n",
       "      <td>Overweight</td>\n",
       "    </tr>\n",
       "    <tr>\n",
       "      <th>2</th>\n",
       "      <td>Yes</td>\n",
       "      <td>NaN</td>\n",
       "      <td>Male</td>\n",
       "      <td>66</td>\n",
       "      <td>Non-Hispanic Black</td>\n",
       "      <td>71.00000</td>\n",
       "      <td>289.000000</td>\n",
       "      <td>Fair</td>\n",
       "      <td>0 to 24,999</td>\n",
       "      <td>40.302916</td>\n",
       "      <td>61-75</td>\n",
       "      <td>Morbidly Obese</td>\n",
       "    </tr>\n",
       "    <tr>\n",
       "      <th>3</th>\n",
       "      <td>Borderline</td>\n",
       "      <td>NaN</td>\n",
       "      <td>Male</td>\n",
       "      <td>61</td>\n",
       "      <td>Non-Hispanic White</td>\n",
       "      <td>73.00000</td>\n",
       "      <td>202.000000</td>\n",
       "      <td>Poor</td>\n",
       "      <td>75,000 to 99,999</td>\n",
       "      <td>26.647776</td>\n",
       "      <td>61-75</td>\n",
       "      <td>Overweight</td>\n",
       "    </tr>\n",
       "    <tr>\n",
       "      <th>4</th>\n",
       "      <td>Yes</td>\n",
       "      <td>NaN</td>\n",
       "      <td>Female</td>\n",
       "      <td>64</td>\n",
       "      <td>Mexican American</td>\n",
       "      <td>61.98409</td>\n",
       "      <td>178.532839</td>\n",
       "      <td>Poor</td>\n",
       "      <td>0 to 24,999</td>\n",
       "      <td>32.667280</td>\n",
       "      <td>61-75</td>\n",
       "      <td>Obese</td>\n",
       "    </tr>\n",
       "  </tbody>\n",
       "</table>\n",
       "</div>"
      ],
      "text/plain": [
       "  DiabetesCond Prediabetes  Gender  Age                Race    Height  \\\n",
       "0           No          No  Female   62          Other Race  62.00000   \n",
       "1          Yes         NaN    Male   71  Non-Hispanic White  68.00000   \n",
       "2          Yes         NaN    Male   66  Non-Hispanic Black  71.00000   \n",
       "3   Borderline         NaN    Male   61  Non-Hispanic White  73.00000   \n",
       "4          Yes         NaN  Female   64    Mexican American  61.98409   \n",
       "\n",
       "       Weight Health AnnualHousehldIncome        BMI Age Group       BMI Group  \n",
       "0  308.000000   Fair     25,000 to 49,999  56.327784     61-75     Super Obese  \n",
       "1  190.000000   Good          0 to 24,999  28.886246     61-75      Overweight  \n",
       "2  289.000000   Fair          0 to 24,999  40.302916     61-75  Morbidly Obese  \n",
       "3  202.000000   Poor     75,000 to 99,999  26.647776     61-75      Overweight  \n",
       "4  178.532839   Poor          0 to 24,999  32.667280     61-75           Obese  "
      ]
     },
     "execution_count": 214,
     "metadata": {},
     "output_type": "execute_result"
    }
   ],
   "source": [
    "df_profile.head()"
   ]
  },
  {
   "cell_type": "code",
   "execution_count": 244,
   "metadata": {},
   "outputs": [],
   "source": [
    "#df_profile.to_csv('prof.csv')"
   ]
  },
  {
   "cell_type": "code",
   "execution_count": 216,
   "metadata": {},
   "outputs": [],
   "source": [
    "df_profile_yes = df_profile.loc[(df_profile['DiabetesCond'] == 'Borderline') | (df_profile['DiabetesCond'] == 'Yes')] \n",
    "df_profile_no = df_profile.loc[(df_profile['DiabetesCond'] == 'No') & (df_profile['Prediabetes'] != 'Yes')] \n",
    "df_profile_pre = df_profile.loc[df_profile['Prediabetes'] == 'Yes']"
   ]
  },
  {
   "cell_type": "code",
   "execution_count": 217,
   "metadata": {},
   "outputs": [],
   "source": [
    "Ttl_yes = len(df_profile_yes)\n",
    "Ttl_no = len(df_profile_no)\n",
    "Ttl_pre = len(df_profile_pre)"
   ]
  },
  {
   "cell_type": "code",
   "execution_count": 218,
   "metadata": {},
   "outputs": [
    {
     "data": {
      "text/html": [
       "<div>\n",
       "<style scoped>\n",
       "    .dataframe tbody tr th:only-of-type {\n",
       "        vertical-align: middle;\n",
       "    }\n",
       "\n",
       "    .dataframe tbody tr th {\n",
       "        vertical-align: top;\n",
       "    }\n",
       "\n",
       "    .dataframe thead th {\n",
       "        text-align: right;\n",
       "    }\n",
       "</style>\n",
       "<table border=\"1\" class=\"dataframe\">\n",
       "  <thead>\n",
       "    <tr style=\"text-align: right;\">\n",
       "      <th></th>\n",
       "      <th>DiabetesCond</th>\n",
       "      <th>Prediabetes</th>\n",
       "      <th>Gender</th>\n",
       "      <th>Age</th>\n",
       "      <th>Race</th>\n",
       "      <th>Height</th>\n",
       "      <th>Weight</th>\n",
       "      <th>Health</th>\n",
       "      <th>AnnualHousehldIncome</th>\n",
       "      <th>BMI</th>\n",
       "      <th>Age Group</th>\n",
       "      <th>BMI Group</th>\n",
       "    </tr>\n",
       "  </thead>\n",
       "  <tbody>\n",
       "    <tr>\n",
       "      <th>1</th>\n",
       "      <td>Yes</td>\n",
       "      <td>NaN</td>\n",
       "      <td>Male</td>\n",
       "      <td>71</td>\n",
       "      <td>Non-Hispanic White</td>\n",
       "      <td>68.00000</td>\n",
       "      <td>190.000000</td>\n",
       "      <td>Good</td>\n",
       "      <td>0 to 24,999</td>\n",
       "      <td>28.886246</td>\n",
       "      <td>61-75</td>\n",
       "      <td>Overweight</td>\n",
       "    </tr>\n",
       "    <tr>\n",
       "      <th>2</th>\n",
       "      <td>Yes</td>\n",
       "      <td>NaN</td>\n",
       "      <td>Male</td>\n",
       "      <td>66</td>\n",
       "      <td>Non-Hispanic Black</td>\n",
       "      <td>71.00000</td>\n",
       "      <td>289.000000</td>\n",
       "      <td>Fair</td>\n",
       "      <td>0 to 24,999</td>\n",
       "      <td>40.302916</td>\n",
       "      <td>61-75</td>\n",
       "      <td>Morbidly Obese</td>\n",
       "    </tr>\n",
       "    <tr>\n",
       "      <th>3</th>\n",
       "      <td>Borderline</td>\n",
       "      <td>NaN</td>\n",
       "      <td>Male</td>\n",
       "      <td>61</td>\n",
       "      <td>Non-Hispanic White</td>\n",
       "      <td>73.00000</td>\n",
       "      <td>202.000000</td>\n",
       "      <td>Poor</td>\n",
       "      <td>75,000 to 99,999</td>\n",
       "      <td>26.647776</td>\n",
       "      <td>61-75</td>\n",
       "      <td>Overweight</td>\n",
       "    </tr>\n",
       "    <tr>\n",
       "      <th>4</th>\n",
       "      <td>Yes</td>\n",
       "      <td>NaN</td>\n",
       "      <td>Female</td>\n",
       "      <td>64</td>\n",
       "      <td>Mexican American</td>\n",
       "      <td>61.98409</td>\n",
       "      <td>178.532839</td>\n",
       "      <td>Poor</td>\n",
       "      <td>0 to 24,999</td>\n",
       "      <td>32.667280</td>\n",
       "      <td>61-75</td>\n",
       "      <td>Obese</td>\n",
       "    </tr>\n",
       "    <tr>\n",
       "      <th>6</th>\n",
       "      <td>Yes</td>\n",
       "      <td>NaN</td>\n",
       "      <td>Male</td>\n",
       "      <td>70</td>\n",
       "      <td>Non-Hispanic White</td>\n",
       "      <td>69.00000</td>\n",
       "      <td>250.000000</td>\n",
       "      <td>Excellent</td>\n",
       "      <td>25,000 to 49,999</td>\n",
       "      <td>36.914514</td>\n",
       "      <td>61-75</td>\n",
       "      <td>Severely Obese</td>\n",
       "    </tr>\n",
       "  </tbody>\n",
       "</table>\n",
       "</div>"
      ],
      "text/plain": [
       "  DiabetesCond Prediabetes  Gender  Age                Race    Height  \\\n",
       "1          Yes         NaN    Male   71  Non-Hispanic White  68.00000   \n",
       "2          Yes         NaN    Male   66  Non-Hispanic Black  71.00000   \n",
       "3   Borderline         NaN    Male   61  Non-Hispanic White  73.00000   \n",
       "4          Yes         NaN  Female   64    Mexican American  61.98409   \n",
       "6          Yes         NaN    Male   70  Non-Hispanic White  69.00000   \n",
       "\n",
       "       Weight     Health AnnualHousehldIncome        BMI Age Group  \\\n",
       "1  190.000000       Good          0 to 24,999  28.886246     61-75   \n",
       "2  289.000000       Fair          0 to 24,999  40.302916     61-75   \n",
       "3  202.000000       Poor     75,000 to 99,999  26.647776     61-75   \n",
       "4  178.532839       Poor          0 to 24,999  32.667280     61-75   \n",
       "6  250.000000  Excellent     25,000 to 49,999  36.914514     61-75   \n",
       "\n",
       "        BMI Group  \n",
       "1      Overweight  \n",
       "2  Morbidly Obese  \n",
       "3      Overweight  \n",
       "4           Obese  \n",
       "6  Severely Obese  "
      ]
     },
     "execution_count": 218,
     "metadata": {},
     "output_type": "execute_result"
    }
   ],
   "source": [
    "df_profile_yes.head()"
   ]
  },
  {
   "cell_type": "code",
   "execution_count": 219,
   "metadata": {},
   "outputs": [],
   "source": [
    "\n",
    "gender_yes_male = df_profile_yes.loc[df_profile_yes['Gender'] == 'Male']\n",
    "PctMaleYes= len(gender_yes_male['Gender'])/Ttl_yes\n",
    "gender_yes_female = df_profile_yes.loc[df_profile_yes['Gender'] == 'Female']\n",
    "PctFemaleYes= len(gender_yes_female['Gender'])/Ttl_yes\n"
   ]
  },
  {
   "cell_type": "code",
   "execution_count": 220,
   "metadata": {},
   "outputs": [],
   "source": [
    "gender_no_male = df_profile_no.loc[df_profile_no['Gender'] == 'Male']\n",
    "PctMaleNo= len(gender_no_male['Gender'])/Ttl_no\n",
    "gender_no_female = df_profile_no.loc[df_profile_no['Gender'] == 'Female']\n",
    "PctFemaleNo= len(gender_no_female['Gender'])/Ttl_no"
   ]
  },
  {
   "cell_type": "code",
   "execution_count": 221,
   "metadata": {},
   "outputs": [],
   "source": [
    "gender_pre_male = df_profile_pre.loc[df_profile_pre['Gender'] == 'Male']\n",
    "PctMalePre= len(gender_pre_male['Gender'])/Ttl_pre\n",
    "gender_pre_female = df_profile_pre.loc[df_profile_pre['Gender'] == 'Female']\n",
    "PctFemalePre= len(gender_pre_female['Gender'])/Ttl_pre"
   ]
  },
  {
   "cell_type": "code",
   "execution_count": 222,
   "metadata": {},
   "outputs": [
    {
     "data": {
      "text/html": [
       "<div>\n",
       "<style scoped>\n",
       "    .dataframe tbody tr th:only-of-type {\n",
       "        vertical-align: middle;\n",
       "    }\n",
       "\n",
       "    .dataframe tbody tr th {\n",
       "        vertical-align: top;\n",
       "    }\n",
       "\n",
       "    .dataframe thead th {\n",
       "        text-align: right;\n",
       "    }\n",
       "</style>\n",
       "<table border=\"1\" class=\"dataframe\">\n",
       "  <thead>\n",
       "    <tr style=\"text-align: right;\">\n",
       "      <th></th>\n",
       "      <th>Group</th>\n",
       "      <th>% Male</th>\n",
       "      <th>% Female</th>\n",
       "    </tr>\n",
       "  </thead>\n",
       "  <tbody>\n",
       "    <tr>\n",
       "      <th>0</th>\n",
       "      <td>Diabetes</td>\n",
       "      <td>0.508138</td>\n",
       "      <td>0.491862</td>\n",
       "    </tr>\n",
       "    <tr>\n",
       "      <th>1</th>\n",
       "      <td>PreDiabetes</td>\n",
       "      <td>0.408517</td>\n",
       "      <td>0.591483</td>\n",
       "    </tr>\n",
       "    <tr>\n",
       "      <th>2</th>\n",
       "      <td>No Diabetes</td>\n",
       "      <td>0.437321</td>\n",
       "      <td>0.562679</td>\n",
       "    </tr>\n",
       "  </tbody>\n",
       "</table>\n",
       "</div>"
      ],
      "text/plain": [
       "         Group    % Male  % Female\n",
       "0     Diabetes  0.508138  0.491862\n",
       "1  PreDiabetes  0.408517  0.591483\n",
       "2  No Diabetes  0.437321  0.562679"
      ]
     },
     "execution_count": 222,
     "metadata": {},
     "output_type": "execute_result"
    }
   ],
   "source": [
    "data = [['Diabetes',PctMaleYes,PctFemaleYes],['PreDiabetes',PctMalePre,PctFemalePre],['No Diabetes',PctMaleNo,PctFemaleNo]]\n",
    "df_gender = pd.DataFrame(data, columns = ['Group', '% Male', '% Female'])\n",
    "df_gender.head()"
   ]
  },
  {
   "cell_type": "code",
   "execution_count": 293,
   "metadata": {},
   "outputs": [
    {
     "data": {
      "text/plain": [
       "<function matplotlib.pyplot.show(*args, **kw)>"
      ]
     },
     "execution_count": 293,
     "metadata": {},
     "output_type": "execute_result"
    },
    {
     "data": {
      "image/png": "[encoded data removed]",
      "text/plain": [
       "<Figure size 360x360 with 1 Axes>"
      ]
     },
     "metadata": {
      "needs_background": "light"
     },
     "output_type": "display_data"
    }
   ],
   "source": [
    "#Build a visual\n",
    "\n",
    "pal = ['#235485','#5c95bb' ]\n",
    "\n",
    "ax = df_gender.plot( x='Group',kind='bar', stacked=True,color=pal,align=\"center\",edgecolor='black')\n",
    "\n",
    "ax.spines['top'].set_visible(False)\n",
    "ax.spines['right'].set_visible(False)\n",
    "ax.set_title(label=\"Diabetes Profile by Gender\", fontsize=15, loc='center')\n",
    "ax.set_xlabel(' ')\n",
    "ax.yaxis.set_major_formatter(FuncFormatter(lambda y, _: '{:.0%}'.format(y))) \n",
    "\n",
    "plt.legend(frameon=False, bbox_to_anchor=(1, 1),fontsize=12)\n",
    "plt.rcParams[\"figure.figsize\"] = [5, 5]\n",
    "#plt.rcParams[\"figure.autolayout\"] = True\n",
    "ax.set_xticks(range(len(df_gender.Group)))\n",
    "plt.xticks(rotation=0,fontsize=10)\n",
    "plt.yticks(fontsize=10)\n",
    "#plt.savefig('GenderProfile.png', bbox_inches='tight')\n",
    "plt.show"
   ]
  },
  {
   "cell_type": "code",
   "execution_count": 291,
   "metadata": {},
   "outputs": [],
   "source": [
    "race_yes_MA = df_profile_yes.loc[df_profile_yes['Race'] == 'Mexican American']\n",
    "PctMAYes= len(race_yes_MA['Race'])/Ttl_yes\n",
    "race_yes_NHB = df_profile_yes.loc[df_profile_yes['Race'] == 'Non-Hispanic Black']\n",
    "PctNHBYes= len(race_yes_NHB['Race'])/Ttl_yes\n",
    "race_yes_NHW = df_profile_yes.loc[df_profile_yes['Race'] == 'Non-Hispanic White']\n",
    "PctNHWYes= len(race_yes_NHW['Race'])/Ttl_yes\n",
    "race_yes_OH = df_profile_yes.loc[df_profile_yes['Race'] == 'Other Hispanic']\n",
    "PctOHYes= len(race_yes_OH['Race'])/Ttl_yes\n",
    "race_yes_OR = df_profile_yes.loc[df_profile_yes['Race'] == 'Other Race']\n",
    "PctORYes= len(race_yes_OR['Race'])/Ttl_yes"
   ]
  },
  {
   "cell_type": "code",
   "execution_count": 292,
   "metadata": {},
   "outputs": [],
   "source": [
    "race_no_MA = df_profile_no.loc[df_profile_no['Race'] == 'Mexican American']\n",
    "PctMAno= len(race_no_MA['Race'])/Ttl_no\n",
    "race_no_NHB = df_profile_no.loc[df_profile_no['Race'] == 'Non-Hispanic Black']\n",
    "PctNHBno= len(race_no_NHB['Race'])/Ttl_no\n",
    "race_no_NHW = df_profile_no.loc[df_profile_no['Race'] == 'Non-Hispanic White']\n",
    "PctNHWno= len(race_no_NHW['Race'])/Ttl_no\n",
    "race_no_OH = df_profile_no.loc[df_profile_no['Race'] == 'Other Hispanic']\n",
    "PctOHno= len(race_no_OH['Race'])/Ttl_no\n",
    "race_no_OR = df_profile_no.loc[df_profile_no['Race'] == 'Other Race']\n",
    "PctORno= len(race_no_OR['Race'])/Ttl_no"
   ]
  },
  {
   "cell_type": "code",
   "execution_count": 226,
   "metadata": {},
   "outputs": [],
   "source": [
    "race_pre_MA = df_profile_pre.loc[df_profile_pre['Race'] == 'Mexican American']\n",
    "PctMApre= len(race_pre_MA['Race'])/Ttl_pre\n",
    "race_pre_NHB = df_profile_pre.loc[df_profile_pre['Race'] == 'Non-Hispanic Black']\n",
    "PctNHBpre= len(race_pre_NHB['Race'])/Ttl_pre\n",
    "race_pre_NHW = df_profile_pre.loc[df_profile_pre['Race'] == 'Non-Hispanic White']\n",
    "PctNHWpre= len(race_pre_NHW['Race'])/Ttl_pre\n",
    "race_pre_OH = df_profile_pre.loc[df_profile_pre['Race'] == 'Other Hispanic']\n",
    "PctOHpre= len(race_pre_OH['Race'])/Ttl_pre\n",
    "race_pre_OR = df_profile_pre.loc[df_profile_pre['Race'] == 'Other Race']\n",
    "PctORpre= len(race_pre_OR['Race'])/Ttl_pre"
   ]
  },
  {
   "cell_type": "code",
   "execution_count": 227,
   "metadata": {},
   "outputs": [
    {
     "data": {
      "text/html": [
       "<div>\n",
       "<style scoped>\n",
       "    .dataframe tbody tr th:only-of-type {\n",
       "        vertical-align: middle;\n",
       "    }\n",
       "\n",
       "    .dataframe tbody tr th {\n",
       "        vertical-align: top;\n",
       "    }\n",
       "\n",
       "    .dataframe thead th {\n",
       "        text-align: right;\n",
       "    }\n",
       "</style>\n",
       "<table border=\"1\" class=\"dataframe\">\n",
       "  <thead>\n",
       "    <tr style=\"text-align: right;\">\n",
       "      <th></th>\n",
       "      <th>Group</th>\n",
       "      <th>% Mexican American</th>\n",
       "      <th>% Non-Hispanic Black</th>\n",
       "      <th>% Non-Hispanic White</th>\n",
       "      <th>% Other Hispanic</th>\n",
       "      <th>% Other Race</th>\n",
       "    </tr>\n",
       "  </thead>\n",
       "  <tbody>\n",
       "    <tr>\n",
       "      <th>0</th>\n",
       "      <td>Diabetes</td>\n",
       "      <td>0.168843</td>\n",
       "      <td>0.267573</td>\n",
       "      <td>0.342694</td>\n",
       "      <td>0.104811</td>\n",
       "      <td>0.116079</td>\n",
       "    </tr>\n",
       "    <tr>\n",
       "      <th>1</th>\n",
       "      <td>PreDiabetes</td>\n",
       "      <td>0.153486</td>\n",
       "      <td>0.212447</td>\n",
       "      <td>0.377164</td>\n",
       "      <td>0.114647</td>\n",
       "      <td>0.142255</td>\n",
       "    </tr>\n",
       "    <tr>\n",
       "      <th>2</th>\n",
       "      <td>No Diabetes</td>\n",
       "      <td>0.182874</td>\n",
       "      <td>0.224182</td>\n",
       "      <td>0.350115</td>\n",
       "      <td>0.100688</td>\n",
       "      <td>0.142140</td>\n",
       "    </tr>\n",
       "  </tbody>\n",
       "</table>\n",
       "</div>"
      ],
      "text/plain": [
       "         Group  % Mexican American  % Non-Hispanic Black  \\\n",
       "0     Diabetes            0.168843              0.267573   \n",
       "1  PreDiabetes            0.153486              0.212447   \n",
       "2  No Diabetes            0.182874              0.224182   \n",
       "\n",
       "   % Non-Hispanic White  % Other Hispanic  % Other Race  \n",
       "0              0.342694          0.104811      0.116079  \n",
       "1              0.377164          0.114647      0.142255  \n",
       "2              0.350115          0.100688      0.142140  "
      ]
     },
     "execution_count": 227,
     "metadata": {},
     "output_type": "execute_result"
    }
   ],
   "source": [
    "data = [['Diabetes',PctMAYes,PctNHBYes,PctNHWYes,PctOHYes,PctORYes],\n",
    "        ['PreDiabetes',PctMApre,PctNHBpre,PctNHWpre,PctOHpre,PctORpre],\n",
    "        ['No Diabetes',PctMAno,PctNHBno,PctNHWno,PctOHno,PctORno]]\n",
    "df_race = pd.DataFrame(data, columns = ['Group', '% Mexican American', '% Non-Hispanic Black','% Non-Hispanic White',\n",
    "                                         '% Other Hispanic','% Other Race'])\n",
    "df_race.head()"
   ]
  },
  {
   "cell_type": "code",
   "execution_count": 298,
   "metadata": {},
   "outputs": [
    {
     "data": {
      "text/plain": [
       "<function matplotlib.pyplot.show(*args, **kw)>"
      ]
     },
     "execution_count": 298,
     "metadata": {},
     "output_type": "execute_result"
    },
    {
     "data": {
      "image/png": "[encoded data removed]",
      "text/plain": [
       "<Figure size 432x360 with 1 Axes>"
      ]
     },
     "metadata": {
      "needs_background": "light"
     },
     "output_type": "display_data"
    }
   ],
   "source": [
    "\n",
    "pal = ['#d3e1ee','#b3cede','#5c95bb', '#3874a5','#184375']\n",
    "\n",
    "ax = df_race.plot( x='Group',kind='bar', stacked=True,color=pal,align=\"center\",edgecolor='black')\n",
    "\n",
    "ax.spines['top'].set_visible(False)\n",
    "ax.spines['right'].set_visible(False)\n",
    "ax.set_title(label=\"Diabetes Profile by Race\", fontsize=15, loc='center')\n",
    "ax.set_xlabel(' ')\n",
    "ax.yaxis.set_major_formatter(FuncFormatter(lambda y, _: '{:.0%}'.format(y))) \n",
    "\n",
    "plt.legend(frameon=False, bbox_to_anchor=(1, 1),fontsize=12)\n",
    "plt.rcParams[\"figure.figsize\"] = [6, 5]\n",
    "#plt.rcParams[\"figure.autolayout\"] = True\n",
    "ax.set_xticks(range(len(df_race.Group)))\n",
    "plt.xticks(rotation=0,fontsize=10)\n",
    "plt.yticks(fontsize=10)\n",
    "#plt.savefig('RaceProfile.png', bbox_inches='tight')\n",
    "plt.show"
   ]
  },
  {
   "cell_type": "code",
   "execution_count": 295,
   "metadata": {},
   "outputs": [],
   "source": [
    "health_yes_P = df_profile_yes.loc[df_profile_yes['Health'] == 'Poor']\n",
    "PctPoorYes= len(health_yes_P['Health'])/Ttl_yes\n",
    "health_yes_F = df_profile_yes.loc[df_profile_yes['Health'] == 'Fair']\n",
    "PctFairYes= len(health_yes_F['Health'])/Ttl_yes\n",
    "health_yes_G = df_profile_yes.loc[df_profile_yes['Health'] == 'Good']\n",
    "PctGoodYes= len(health_yes_G['Health'])/Ttl_yes\n",
    "health_yes_VG = df_profile_yes.loc[df_profile_yes['Health'] == 'Very good']\n",
    "PctVGYes= len(health_yes_VG['Health'])/Ttl_yes\n",
    "health_yes_Ex = df_profile_yes.loc[df_profile_yes['Health'] == 'Excellent']\n",
    "PctExYes= len(health_yes_Ex['Health'])/Ttl_yes\n",
    "health_yes_U = df_profile_yes.loc[df_profile_yes['Health'] == 'Unknown']\n",
    "PctUYes= len(health_yes_U['Health'])/Ttl_yes"
   ]
  },
  {
   "cell_type": "code",
   "execution_count": 230,
   "metadata": {},
   "outputs": [],
   "source": [
    "health_no_P = df_profile_no.loc[df_profile_no['Health'] == 'Poor']\n",
    "PctPoorno= len(health_no_P['Health'])/Ttl_no\n",
    "health_no_F = df_profile_no.loc[df_profile_no['Health'] == 'Fair']\n",
    "PctFairno= len(health_no_F['Health'])/Ttl_no\n",
    "health_no_G = df_profile_no.loc[df_profile_no['Health'] == 'Good']\n",
    "PctGoodno= len(health_no_G['Health'])/Ttl_no\n",
    "health_no_VG = df_profile_no.loc[df_profile_no['Health'] == 'Very good']\n",
    "PctVGno= len(health_no_VG['Health'])/Ttl_no\n",
    "health_no_Ex = df_profile_no.loc[df_profile_no['Health'] == 'Excellent']\n",
    "PctExno= len(health_no_Ex['Health'])/Ttl_no\n",
    "health_no_U = df_profile_no.loc[df_profile_no['Health'] == 'Unknown']\n",
    "PctUno= len(health_no_U['Health'])/Ttl_no"
   ]
  },
  {
   "cell_type": "code",
   "execution_count": 231,
   "metadata": {},
   "outputs": [],
   "source": [
    "health_pre_P = df_profile_pre.loc[df_profile_pre['Health'] == 'Poor']\n",
    "PctPoorpre= len(health_pre_P['Health'])/Ttl_pre\n",
    "health_pre_F = df_profile_pre.loc[df_profile_pre['Health'] == 'Fair']\n",
    "PctFairpre= len(health_pre_F['Health'])/Ttl_pre\n",
    "health_pre_G = df_profile_pre.loc[df_profile_pre['Health'] == 'Good']\n",
    "PctGoodpre= len(health_pre_G['Health'])/Ttl_pre\n",
    "health_pre_VG = df_profile_pre.loc[df_profile_pre['Health'] == 'Very good']\n",
    "PctVGpre= len(health_pre_VG['Health'])/Ttl_pre\n",
    "health_pre_Ex = df_profile_pre.loc[df_profile_pre['Health'] == 'Excellent']\n",
    "PctExpre= len(health_pre_Ex['Health'])/Ttl_pre\n",
    "health_pre_U = df_profile_pre.loc[df_profile_pre['Health'] == 'Unknown']\n",
    "PctUpre= len(health_pre_U['Health'])/Ttl_pre"
   ]
  },
  {
   "cell_type": "code",
   "execution_count": 232,
   "metadata": {},
   "outputs": [
    {
     "data": {
      "text/html": [
       "<div>\n",
       "<style scoped>\n",
       "    .dataframe tbody tr th:only-of-type {\n",
       "        vertical-align: middle;\n",
       "    }\n",
       "\n",
       "    .dataframe tbody tr th {\n",
       "        vertical-align: top;\n",
       "    }\n",
       "\n",
       "    .dataframe thead th {\n",
       "        text-align: right;\n",
       "    }\n",
       "</style>\n",
       "<table border=\"1\" class=\"dataframe\">\n",
       "  <thead>\n",
       "    <tr style=\"text-align: right;\">\n",
       "      <th></th>\n",
       "      <th>Group</th>\n",
       "      <th>% Poor</th>\n",
       "      <th>% Fair</th>\n",
       "      <th>% Good</th>\n",
       "      <th>% Very Good</th>\n",
       "      <th>% Excellent</th>\n",
       "      <th>% Unknown</th>\n",
       "    </tr>\n",
       "  </thead>\n",
       "  <tbody>\n",
       "    <tr>\n",
       "      <th>0</th>\n",
       "      <td>Diabetes</td>\n",
       "      <td>0.123413</td>\n",
       "      <td>0.358970</td>\n",
       "      <td>0.355035</td>\n",
       "      <td>0.131104</td>\n",
       "      <td>0.030406</td>\n",
       "      <td>0.001073</td>\n",
       "    </tr>\n",
       "    <tr>\n",
       "      <th>1</th>\n",
       "      <td>PreDiabetes</td>\n",
       "      <td>0.046795</td>\n",
       "      <td>0.248011</td>\n",
       "      <td>0.398222</td>\n",
       "      <td>0.241928</td>\n",
       "      <td>0.064109</td>\n",
       "      <td>0.000936</td>\n",
       "    </tr>\n",
       "    <tr>\n",
       "      <th>2</th>\n",
       "      <td>No Diabetes</td>\n",
       "      <td>0.037866</td>\n",
       "      <td>0.186890</td>\n",
       "      <td>0.394435</td>\n",
       "      <td>0.269363</td>\n",
       "      <td>0.110729</td>\n",
       "      <td>0.000717</td>\n",
       "    </tr>\n",
       "  </tbody>\n",
       "</table>\n",
       "</div>"
      ],
      "text/plain": [
       "         Group    % Poor    % Fair    % Good  % Very Good  % Excellent  \\\n",
       "0     Diabetes  0.123413  0.358970  0.355035     0.131104     0.030406   \n",
       "1  PreDiabetes  0.046795  0.248011  0.398222     0.241928     0.064109   \n",
       "2  No Diabetes  0.037866  0.186890  0.394435     0.269363     0.110729   \n",
       "\n",
       "   % Unknown  \n",
       "0   0.001073  \n",
       "1   0.000936  \n",
       "2   0.000717  "
      ]
     },
     "execution_count": 232,
     "metadata": {},
     "output_type": "execute_result"
    }
   ],
   "source": [
    "data = [['Diabetes',PctPoorYes,PctFairYes,PctGoodYes,PctVGYes,PctExYes,PctUYes],\n",
    "        ['PreDiabetes',PctPoorpre,PctFairpre,PctGoodpre,PctVGpre,PctExpre,PctUpre],\n",
    "        ['No Diabetes',PctPoorno,PctFairno,PctGoodno,PctVGno,PctExno,PctUno]]\n",
    "df_health = pd.DataFrame(data, columns = ['Group', '% Poor', '% Fair','% Good',\n",
    "                                         '% Very Good','% Excellent','% Unknown'])\n",
    "df_health.head()"
   ]
  },
  {
   "cell_type": "code",
   "execution_count": 299,
   "metadata": {},
   "outputs": [
    {
     "data": {
      "text/plain": [
       "<function matplotlib.pyplot.show(*args, **kw)>"
      ]
     },
     "execution_count": 299,
     "metadata": {},
     "output_type": "execute_result"
    },
    {
     "data": {
      "image/png": "[encoded data removed]",
      "text/plain": [
       "<Figure size 432x360 with 1 Axes>"
      ]
     },
     "metadata": {
      "needs_background": "light"
     },
     "output_type": "display_data"
    }
   ],
   "source": [
    "\n",
    "pal = ['#d3e1ee','#b3cede','#85b2cd','#5c95bb', '#3874a5','#184375']\n",
    "\n",
    "ax = df_health.plot( x='Group',kind='bar', stacked=True,color=pal,align=\"center\",edgecolor='black')\n",
    "\n",
    "ax.spines['top'].set_visible(False)\n",
    "ax.spines['right'].set_visible(False)\n",
    "ax.set_title(label=\"Diabetes Profile by Health\", fontsize=15, loc='center')\n",
    "ax.set_xlabel(' ')\n",
    "ax.yaxis.set_major_formatter(FuncFormatter(lambda y, _: '{:.0%}'.format(y))) \n",
    "\n",
    "plt.legend(frameon=False, bbox_to_anchor=(1, 1),fontsize=12)\n",
    "plt.rcParams[\"figure.figsize\"] = [5, 5]\n",
    "#plt.rcParams[\"figure.autolayout\"] = True\n",
    "ax.set_xticks(range(len(df_health.Group)))\n",
    "plt.xticks(rotation=0,fontsize=10)\n",
    "plt.yticks(fontsize=10)\n",
    "#plt.savefig('HealthProfile.png', bbox_inches='tight')\n",
    "plt.show"
   ]
  },
  {
   "cell_type": "code",
   "execution_count": 234,
   "metadata": {},
   "outputs": [],
   "source": [
    "age_yes_U16 = df_profile_yes.loc[df_profile_yes['Age Group'] == 'Under 16']\n",
    "PctU16Yes= len(age_yes_U16['Age Group'])/Ttl_yes\n",
    "age_yes_30 = df_profile_yes.loc[df_profile_yes['Age Group'] == '16-30']\n",
    "Pct30Yes= len(age_yes_30['Age Group'])/Ttl_yes\n",
    "age_yes_45 = df_profile_yes.loc[df_profile_yes['Age Group'] == '31-45']\n",
    "Pct45Yes= len(age_yes_45['Age Group'])/Ttl_yes\n",
    "age_yes_60 = df_profile_yes.loc[df_profile_yes['Age Group'] == '46-60']\n",
    "Pct60Yes= len(age_yes_60['Age Group'])/Ttl_yes\n",
    "age_yes_75 = df_profile_yes.loc[df_profile_yes['Age Group'] == '61-75']\n",
    "Pct75Yes= len(age_yes_75['Age Group'])/Ttl_yes\n",
    "age_yes_O75 = df_profile_yes.loc[df_profile_yes['Age Group'] == 'Over 75']\n",
    "PctO75Yes= len(age_yes_O75['Age Group'])/Ttl_yes"
   ]
  },
  {
   "cell_type": "code",
   "execution_count": 235,
   "metadata": {},
   "outputs": [],
   "source": [
    "age_pre_U16 = df_profile_pre.loc[df_profile_pre['Age Group'] == 'Under 16']\n",
    "PctU16pre= len(age_pre_U16['Age Group'])/Ttl_pre\n",
    "age_pre_30 = df_profile_pre.loc[df_profile_pre['Age Group'] == '16-30']\n",
    "Pct30pre= len(age_pre_30['Age Group'])/Ttl_pre\n",
    "age_pre_45 = df_profile_pre.loc[df_profile_pre['Age Group'] == '31-45']\n",
    "Pct45pre= len(age_pre_45['Age Group'])/Ttl_pre\n",
    "age_pre_60 = df_profile_pre.loc[df_profile_pre['Age Group'] == '46-60']\n",
    "Pct60pre= len(age_pre_60['Age Group'])/Ttl_pre\n",
    "age_pre_75 = df_profile_pre.loc[df_profile_pre['Age Group'] == '61-75']\n",
    "Pct75pre= len(age_pre_75['Age Group'])/Ttl_pre\n",
    "age_pre_O75 = df_profile_pre.loc[df_profile_pre['Age Group'] == 'Over 75']\n",
    "PctO75pre= len(age_pre_O75['Age Group'])/Ttl_pre"
   ]
  },
  {
   "cell_type": "code",
   "execution_count": 236,
   "metadata": {},
   "outputs": [],
   "source": [
    "age_no_U16 = df_profile_no.loc[df_profile_no['Age Group'] == 'Under 16']\n",
    "PctU16no= len(age_no_U16['Age Group'])/Ttl_no\n",
    "age_no_30 = df_profile_no.loc[df_profile_no['Age Group'] == '16-30']\n",
    "Pct30no= len(age_no_30['Age Group'])/Ttl_no\n",
    "age_no_45 = df_profile_no.loc[df_profile_no['Age Group'] == '31-45']\n",
    "Pct45no= len(age_no_45['Age Group'])/Ttl_no\n",
    "age_no_60 = df_profile_no.loc[df_profile_no['Age Group'] == '46-60']\n",
    "Pct60no= len(age_no_60['Age Group'])/Ttl_no\n",
    "age_no_75 = df_profile_no.loc[df_profile_no['Age Group'] == '61-75']\n",
    "Pct75no= len(age_no_75['Age Group'])/Ttl_no\n",
    "age_no_O75 = df_profile_no.loc[df_profile_no['Age Group'] == 'Over 75']\n",
    "PctO75no= len(age_no_O75['Age Group'])/Ttl_no"
   ]
  },
  {
   "cell_type": "code",
   "execution_count": 237,
   "metadata": {},
   "outputs": [
    {
     "data": {
      "text/html": [
       "<div>\n",
       "<style scoped>\n",
       "    .dataframe tbody tr th:only-of-type {\n",
       "        vertical-align: middle;\n",
       "    }\n",
       "\n",
       "    .dataframe tbody tr th {\n",
       "        vertical-align: top;\n",
       "    }\n",
       "\n",
       "    .dataframe thead th {\n",
       "        text-align: right;\n",
       "    }\n",
       "</style>\n",
       "<table border=\"1\" class=\"dataframe\">\n",
       "  <thead>\n",
       "    <tr style=\"text-align: right;\">\n",
       "      <th></th>\n",
       "      <th>Group</th>\n",
       "      <th>% Under 16</th>\n",
       "      <th>% 16-30</th>\n",
       "      <th>% 31-45</th>\n",
       "      <th>% 46-60</th>\n",
       "      <th>% 61-75</th>\n",
       "      <th>% Over 75</th>\n",
       "    </tr>\n",
       "  </thead>\n",
       "  <tbody>\n",
       "    <tr>\n",
       "      <th>0</th>\n",
       "      <td>Diabetes</td>\n",
       "      <td>0.017170</td>\n",
       "      <td>0.029869</td>\n",
       "      <td>0.100876</td>\n",
       "      <td>0.279914</td>\n",
       "      <td>0.404758</td>\n",
       "      <td>0.167412</td>\n",
       "    </tr>\n",
       "    <tr>\n",
       "      <th>1</th>\n",
       "      <td>PreDiabetes</td>\n",
       "      <td>0.019654</td>\n",
       "      <td>0.104352</td>\n",
       "      <td>0.197941</td>\n",
       "      <td>0.296210</td>\n",
       "      <td>0.282171</td>\n",
       "      <td>0.099672</td>\n",
       "    </tr>\n",
       "    <tr>\n",
       "      <th>2</th>\n",
       "      <td>No Diabetes</td>\n",
       "      <td>0.073723</td>\n",
       "      <td>0.298623</td>\n",
       "      <td>0.273523</td>\n",
       "      <td>0.212134</td>\n",
       "      <td>0.115605</td>\n",
       "      <td>0.026391</td>\n",
       "    </tr>\n",
       "  </tbody>\n",
       "</table>\n",
       "</div>"
      ],
      "text/plain": [
       "         Group  % Under 16   % 16-30   % 31-45   % 46-60   % 61-75  % Over 75\n",
       "0     Diabetes    0.017170  0.029869  0.100876  0.279914  0.404758   0.167412\n",
       "1  PreDiabetes    0.019654  0.104352  0.197941  0.296210  0.282171   0.099672\n",
       "2  No Diabetes    0.073723  0.298623  0.273523  0.212134  0.115605   0.026391"
      ]
     },
     "execution_count": 237,
     "metadata": {},
     "output_type": "execute_result"
    }
   ],
   "source": [
    "data = [['Diabetes',PctU16Yes,Pct30Yes,Pct45Yes,Pct60Yes,Pct75Yes,PctO75Yes],\n",
    "        ['PreDiabetes',PctU16pre,Pct30pre,Pct45pre,Pct60pre,Pct75pre,PctO75pre],\n",
    "        ['No Diabetes',PctU16no,Pct30no,Pct45no,Pct60no,Pct75no,PctO75no]]\n",
    "df_age = pd.DataFrame(data, columns = ['Group', '% Under 16', '% 16-30','% 31-45',\n",
    "                                         '% 46-60','% 61-75','% Over 75'])\n",
    "df_age.head()"
   ]
  },
  {
   "cell_type": "code",
   "execution_count": 303,
   "metadata": {},
   "outputs": [
    {
     "data": {
      "text/plain": [
       "<function matplotlib.pyplot.show(*args, **kw)>"
      ]
     },
     "execution_count": 303,
     "metadata": {},
     "output_type": "execute_result"
    },
    {
     "data": {
      "image/png": "[encoded data removed]",
      "text/plain": [
       "<Figure size 432x360 with 1 Axes>"
      ]
     },
     "metadata": {
      "needs_background": "light"
     },
     "output_type": "display_data"
    }
   ],
   "source": [
    "pal = ['#d3e1ee','#b3cede','#85b2cd','#5c95bb', '#3874a5','#184375']\n",
    "\n",
    "ax = df_age.plot( x='Group',kind='bar', stacked=True,color=pal,align=\"center\",edgecolor='black')\n",
    "\n",
    "ax.spines['top'].set_visible(False)\n",
    "ax.spines['right'].set_visible(False)\n",
    "ax.set_title(label=\"Diabetes Profile by Age\", fontsize=15, loc='center')\n",
    "ax.set_xlabel(' ')\n",
    "ax.yaxis.set_major_formatter(FuncFormatter(lambda y, _: '{:.0%}'.format(y))) \n",
    "\n",
    "plt.legend(frameon=False, bbox_to_anchor=(1, 1),fontsize=10)\n",
    "plt.rcParams[\"figure.figsize\"] = [6, 5]\n",
    "#plt.rcParams[\"figure.autolayout\"] = True\n",
    "ax.set_xticks(range(len(df_age.Group)))\n",
    "plt.xticks(rotation=0,fontsize=12)\n",
    "plt.yticks(fontsize=10)\n",
    "#plt.savefig('AgeProfile.png', bbox_inches='tight')\n",
    "plt.show"
   ]
  },
  {
   "cell_type": "code",
   "execution_count": 239,
   "metadata": {},
   "outputs": [],
   "source": [
    "BMI_yes_U = df_profile_yes.loc[df_profile_yes['BMI Group'] == 'Underweight']\n",
    "PctUYes= len(BMI_yes_U['BMI Group'])/Ttl_yes\n",
    "BMI_yes_I = df_profile_yes.loc[df_profile_yes['BMI Group'] == 'Ideal']\n",
    "PctIYes= len(BMI_yes_I['BMI Group'])/Ttl_yes\n",
    "BMI_yes_Ov = df_profile_yes.loc[df_profile_yes['BMI Group'] == 'Overweight']\n",
    "PctOvYes= len(BMI_yes_Ov['BMI Group'])/Ttl_yes\n",
    "BMI_yes_Ob = df_profile_yes.loc[df_profile_yes['BMI Group'] == 'Obese']\n",
    "PctObYes= len(BMI_yes_Ob['BMI Group'])/Ttl_yes\n",
    "BMI_yes_So = df_profile_yes.loc[df_profile_yes['BMI Group'] == 'Severely Obese']\n",
    "PctSoYes= len(BMI_yes_So['BMI Group'])/Ttl_yes\n",
    "BMI_yes_Mo = df_profile_yes.loc[df_profile_yes['BMI Group'] == 'Morbidly Obese']\n",
    "PctMoYes= len(BMI_yes_Mo['BMI Group'])/Ttl_yes\n",
    "BMI_yes_Su = df_profile_yes.loc[df_profile_yes['BMI Group'] == 'Super Obese']\n",
    "PctSuYes= len(BMI_yes_Su['BMI Group'])/Ttl_yes"
   ]
  },
  {
   "cell_type": "code",
   "execution_count": 240,
   "metadata": {},
   "outputs": [],
   "source": [
    "BMI_pre_U = df_profile_pre.loc[df_profile_pre['BMI Group'] == 'Underweight']\n",
    "PctUpre= len(BMI_pre_U['BMI Group'])/Ttl_pre\n",
    "BMI_pre_I = df_profile_pre.loc[df_profile_pre['BMI Group'] == 'Ideal']\n",
    "PctIpre= len(BMI_pre_I['BMI Group'])/Ttl_pre\n",
    "BMI_pre_Ov = df_profile_pre.loc[df_profile_pre['BMI Group'] == 'Overweight']\n",
    "PctOvpre= len(BMI_pre_Ov['BMI Group'])/Ttl_pre\n",
    "BMI_pre_Ob = df_profile_pre.loc[df_profile_pre['BMI Group'] == 'Obese']\n",
    "PctObpre= len(BMI_pre_Ob['BMI Group'])/Ttl_pre\n",
    "BMI_pre_So = df_profile_pre.loc[df_profile_pre['BMI Group'] == 'Severely Obese']\n",
    "PctSopre= len(BMI_pre_So['BMI Group'])/Ttl_pre\n",
    "BMI_pre_Mo = df_profile_pre.loc[df_profile_pre['BMI Group'] == 'Morbidly Obese']\n",
    "PctMopre= len(BMI_pre_Mo['BMI Group'])/Ttl_pre\n",
    "BMI_pre_Su = df_profile_pre.loc[df_profile_pre['BMI Group'] == 'Super Obese']\n",
    "PctSupre= len(BMI_pre_Su['BMI Group'])/Ttl_pre"
   ]
  },
  {
   "cell_type": "code",
   "execution_count": 241,
   "metadata": {},
   "outputs": [],
   "source": [
    "BMI_no_U = df_profile_no.loc[df_profile_no['BMI Group'] == 'Underweight']\n",
    "PctUno= len(BMI_no_U['BMI Group'])/Ttl_no\n",
    "BMI_no_I = df_profile_no.loc[df_profile_no['BMI Group'] == 'Ideal']\n",
    "PctIno= len(BMI_no_I['BMI Group'])/Ttl_no\n",
    "BMI_no_Ov = df_profile_no.loc[df_profile_no['BMI Group'] == 'Overweight']\n",
    "PctOvno= len(BMI_no_Ov['BMI Group'])/Ttl_no\n",
    "BMI_no_Ob = df_profile_no.loc[df_profile_no['BMI Group'] == 'Obese']\n",
    "PctObno= len(BMI_no_Ob['BMI Group'])/Ttl_no\n",
    "BMI_no_So = df_profile_no.loc[df_profile_no['BMI Group'] == 'Severely Obese']\n",
    "PctSono= len(BMI_no_So['BMI Group'])/Ttl_no\n",
    "BMI_no_Mo = df_profile_no.loc[df_profile_no['BMI Group'] == 'Morbidly Obese']\n",
    "PctMono= len(BMI_no_Mo['BMI Group'])/Ttl_no\n",
    "BMI_no_Su = df_profile_no.loc[df_profile_no['BMI Group'] == 'Super Obese']\n",
    "PctSuno= len(BMI_no_Su['BMI Group'])/Ttl_no"
   ]
  },
  {
   "cell_type": "code",
   "execution_count": 242,
   "metadata": {},
   "outputs": [
    {
     "data": {
      "text/html": [
       "<div>\n",
       "<style scoped>\n",
       "    .dataframe tbody tr th:only-of-type {\n",
       "        vertical-align: middle;\n",
       "    }\n",
       "\n",
       "    .dataframe tbody tr th {\n",
       "        vertical-align: top;\n",
       "    }\n",
       "\n",
       "    .dataframe thead th {\n",
       "        text-align: right;\n",
       "    }\n",
       "</style>\n",
       "<table border=\"1\" class=\"dataframe\">\n",
       "  <thead>\n",
       "    <tr style=\"text-align: right;\">\n",
       "      <th></th>\n",
       "      <th>Group</th>\n",
       "      <th>% Underweight</th>\n",
       "      <th>% Ideal</th>\n",
       "      <th>% Overweight</th>\n",
       "      <th>% Obese</th>\n",
       "      <th>% Severely Obese</th>\n",
       "      <th>% Morbidly Obese</th>\n",
       "      <th>% Super Obese</th>\n",
       "    </tr>\n",
       "  </thead>\n",
       "  <tbody>\n",
       "    <tr>\n",
       "      <th>0</th>\n",
       "      <td>Diabetes</td>\n",
       "      <td>0.008406</td>\n",
       "      <td>0.146307</td>\n",
       "      <td>0.312645</td>\n",
       "      <td>0.289036</td>\n",
       "      <td>0.132713</td>\n",
       "      <td>0.090860</td>\n",
       "      <td>0.020032</td>\n",
       "    </tr>\n",
       "    <tr>\n",
       "      <th>1</th>\n",
       "      <td>PreDiabetes</td>\n",
       "      <td>0.009827</td>\n",
       "      <td>0.196537</td>\n",
       "      <td>0.308376</td>\n",
       "      <td>0.263453</td>\n",
       "      <td>0.125409</td>\n",
       "      <td>0.082358</td>\n",
       "      <td>0.014038</td>\n",
       "    </tr>\n",
       "    <tr>\n",
       "      <th>2</th>\n",
       "      <td>No Diabetes</td>\n",
       "      <td>0.020941</td>\n",
       "      <td>0.229920</td>\n",
       "      <td>0.288439</td>\n",
       "      <td>0.279977</td>\n",
       "      <td>0.096959</td>\n",
       "      <td>0.068130</td>\n",
       "      <td>0.015491</td>\n",
       "    </tr>\n",
       "  </tbody>\n",
       "</table>\n",
       "</div>"
      ],
      "text/plain": [
       "         Group  % Underweight   % Ideal  % Overweight   % Obese  \\\n",
       "0     Diabetes       0.008406  0.146307      0.312645  0.289036   \n",
       "1  PreDiabetes       0.009827  0.196537      0.308376  0.263453   \n",
       "2  No Diabetes       0.020941  0.229920      0.288439  0.279977   \n",
       "\n",
       "   % Severely Obese  % Morbidly Obese  % Super Obese  \n",
       "0          0.132713          0.090860       0.020032  \n",
       "1          0.125409          0.082358       0.014038  \n",
       "2          0.096959          0.068130       0.015491  "
      ]
     },
     "execution_count": 242,
     "metadata": {},
     "output_type": "execute_result"
    }
   ],
   "source": [
    "data = [['Diabetes',PctUYes,PctIYes,PctOvYes,PctObYes,PctSoYes,PctMoYes,PctSuYes],\n",
    "        ['PreDiabetes',PctUpre,PctIpre,PctOvpre,PctObpre,PctSopre,PctMopre,PctSupre],\n",
    "        ['No Diabetes',PctUno,PctIno,PctOvno,PctObno,PctSono,PctMono,PctSuno]]\n",
    "df_BMI = pd.DataFrame(data, columns = ['Group', '% Underweight', '% Ideal','% Overweight',\n",
    "                                         '% Obese','% Severely Obese','% Morbidly Obese','% Super Obese'])\n",
    "df_BMI.head()"
   ]
  },
  {
   "cell_type": "code",
   "execution_count": 304,
   "metadata": {},
   "outputs": [
    {
     "data": {
      "text/plain": [
       "<function matplotlib.pyplot.show(*args, **kw)>"
      ]
     },
     "execution_count": 304,
     "metadata": {},
     "output_type": "execute_result"
    },
    {
     "data": {
      "image/png": "[encoded data removed]",
      "text/plain": [
       "<Figure size 432x360 with 1 Axes>"
      ]
     },
     "metadata": {
      "needs_background": "light"
     },
     "output_type": "display_data"
    }
   ],
   "source": [
    "pal = ['#d3e1ee','#b3cede','#85b2cd','#5c95bb', '#3874a5','#1c538b','#184375']\n",
    "\n",
    "ax = df_BMI.plot( x='Group',kind='bar', stacked=True,color=pal,align=\"center\",edgecolor='black')\n",
    "\n",
    "ax.spines['top'].set_visible(False)\n",
    "ax.spines['right'].set_visible(False)\n",
    "ax.set_title(label=\"Diabetes Profile by BMI\", fontsize=15, loc='center')\n",
    "ax.set_xlabel(' ')\n",
    "ax.yaxis.set_major_formatter(FuncFormatter(lambda y, _: '{:.0%}'.format(y))) \n",
    "\n",
    "plt.legend(frameon=False, bbox_to_anchor=(1, 1),fontsize=12)\n",
    "plt.rcParams[\"figure.figsize\"] = [5, 5]\n",
    "#plt.rcParams[\"figure.autolayout\"] = True\n",
    "ax.set_xticks(range(len(df_BMI.Group)))\n",
    "plt.xticks(rotation=0,fontsize=10)\n",
    "plt.yticks(fontsize=10)\n",
    "#plt.savefig('BMIProfile.png', bbox_inches='tight')\n",
    "plt.show"
   ]
  },
  {
   "cell_type": "code",
   "execution_count": 281,
   "metadata": {},
   "outputs": [],
   "source": [
    "inc_yes_U24 = df_profile_yes.loc[df_profile_yes['AnnualHousehldIncome'] == '0 to 24,999']\n",
    "PctU24Yes= len(inc_yes_U24['AnnualHousehldIncome'])/Ttl_yes\n",
    "inc_yes_49 = df_profile_yes.loc[df_profile_yes['AnnualHousehldIncome'] == '25,000 to 49,999']\n",
    "Pct49Yes= len(inc_yes_49['AnnualHousehldIncome'])/Ttl_yes\n",
    "inc_yes_74 = df_profile_yes.loc[df_profile_yes['AnnualHousehldIncome'] == '50,000 to 74,999']\n",
    "Pct74Yes= len(inc_yes_74['AnnualHousehldIncome'])/Ttl_yes\n",
    "inc_yes_99 = df_profile_yes.loc[df_profile_yes['AnnualHousehldIncome'] == '75,000 to 99,999']\n",
    "Pct99Yes= len(inc_yes_99['AnnualHousehldIncome'])/Ttl_yes\n",
    "inc_yes_100 = df_profile_yes.loc[df_profile_yes['AnnualHousehldIncome'] == '100,000 and Over']\n",
    "Pct100Yes= len(inc_yes_100['AnnualHousehldIncome'])/Ttl_yes\n",
    "inc_yes_U = df_profile_yes.loc[df_profile_yes['AnnualHousehldIncome'] == 'Unknown']\n",
    "PctUYes= len(inc_yes_U['AnnualHousehldIncome'])/Ttl_yes"
   ]
  },
  {
   "cell_type": "code",
   "execution_count": 246,
   "metadata": {},
   "outputs": [],
   "source": [
    "inc_pre_U24 = df_profile_pre.loc[df_profile_pre['AnnualHousehldIncome'] == '0 to 24,999']\n",
    "PctU24pre= len(inc_pre_U24['AnnualHousehldIncome'])/Ttl_pre\n",
    "inc_pre_49 = df_profile_pre.loc[df_profile_pre['AnnualHousehldIncome'] == '25,000 to 49,999']\n",
    "Pct49pre= len(inc_pre_49['AnnualHousehldIncome'])/Ttl_pre\n",
    "inc_pre_74 = df_profile_pre.loc[df_profile_pre['AnnualHousehldIncome'] == '50,000 to 74,999']\n",
    "Pct74pre= len(inc_pre_74['AnnualHousehldIncome'])/Ttl_pre\n",
    "inc_pre_99 = df_profile_pre.loc[df_profile_pre['AnnualHousehldIncome'] == '75,000 to 99,999']\n",
    "Pct99pre= len(inc_pre_99['AnnualHousehldIncome'])/Ttl_pre\n",
    "inc_pre_100 = df_profile_pre.loc[df_profile_pre['AnnualHousehldIncome'] == '100,000 and Over']\n",
    "Pct100pre= len(inc_pre_100['AnnualHousehldIncome'])/Ttl_pre\n",
    "inc_pre_U = df_profile_pre.loc[df_profile_pre['AnnualHousehldIncome'] == 'Unknown']\n",
    "PctUpre= len(inc_pre_U['AnnualHousehldIncome'])/Ttl_pre"
   ]
  },
  {
   "cell_type": "code",
   "execution_count": 247,
   "metadata": {},
   "outputs": [],
   "source": [
    "inc_no_U24 = df_profile_no.loc[df_profile_no['AnnualHousehldIncome'] == '0 to 24,999']\n",
    "PctU24no= len(inc_no_U24['AnnualHousehldIncome'])/Ttl_no\n",
    "inc_no_49 = df_profile_no.loc[df_profile_no['AnnualHousehldIncome'] == '25,000 to 49,999']\n",
    "Pct49no= len(inc_no_49['AnnualHousehldIncome'])/Ttl_no\n",
    "inc_no_74 = df_profile_no.loc[df_profile_no['AnnualHousehldIncome'] == '50,000 to 74,999']\n",
    "Pct74no= len(inc_no_74['AnnualHousehldIncome'])/Ttl_no\n",
    "inc_no_99 = df_profile_no.loc[df_profile_no['AnnualHousehldIncome'] == '75,000 to 99,999']\n",
    "Pct99no= len(inc_no_99['AnnualHousehldIncome'])/Ttl_no\n",
    "inc_no_100 = df_profile_no.loc[df_profile_no['AnnualHousehldIncome'] == '100,000 and Over']\n",
    "Pct100no= len(inc_no_100['AnnualHousehldIncome'])/Ttl_no\n",
    "inc_no_U = df_profile_no.loc[df_profile_no['AnnualHousehldIncome'] == 'Unknown']\n",
    "PctUno= len(inc_no_U['AnnualHousehldIncome'])/Ttl_no"
   ]
  },
  {
   "cell_type": "code",
   "execution_count": 263,
   "metadata": {},
   "outputs": [
    {
     "data": {
      "text/html": [
       "<div>\n",
       "<style scoped>\n",
       "    .dataframe tbody tr th:only-of-type {\n",
       "        vertical-align: middle;\n",
       "    }\n",
       "\n",
       "    .dataframe tbody tr th {\n",
       "        vertical-align: top;\n",
       "    }\n",
       "\n",
       "    .dataframe thead th {\n",
       "        text-align: right;\n",
       "    }\n",
       "</style>\n",
       "<table border=\"1\" class=\"dataframe\">\n",
       "  <thead>\n",
       "    <tr style=\"text-align: right;\">\n",
       "      <th></th>\n",
       "      <th>Group</th>\n",
       "      <th>% 0 to $24,999</th>\n",
       "      <th>% 25,000 to $49,999</th>\n",
       "      <th>% 50,000 to $74,999</th>\n",
       "      <th>% 75,000 to $99,999</th>\n",
       "      <th>% $100,000 and Over</th>\n",
       "      <th>% Unknown</th>\n",
       "    </tr>\n",
       "  </thead>\n",
       "  <tbody>\n",
       "    <tr>\n",
       "      <th>0</th>\n",
       "      <td>Diabetes</td>\n",
       "      <td>0.344840</td>\n",
       "      <td>0.313718</td>\n",
       "      <td>0.103023</td>\n",
       "      <td>0.067251</td>\n",
       "      <td>0.104811</td>\n",
       "      <td>0.066357</td>\n",
       "    </tr>\n",
       "    <tr>\n",
       "      <th>1</th>\n",
       "      <td>PreDiabetes</td>\n",
       "      <td>0.263453</td>\n",
       "      <td>0.308844</td>\n",
       "      <td>0.108095</td>\n",
       "      <td>0.094057</td>\n",
       "      <td>0.173608</td>\n",
       "      <td>0.051942</td>\n",
       "    </tr>\n",
       "    <tr>\n",
       "      <th>2</th>\n",
       "      <td>No Diabetes</td>\n",
       "      <td>0.261761</td>\n",
       "      <td>0.318703</td>\n",
       "      <td>0.107430</td>\n",
       "      <td>0.098250</td>\n",
       "      <td>0.160499</td>\n",
       "      <td>0.053356</td>\n",
       "    </tr>\n",
       "  </tbody>\n",
       "</table>\n",
       "</div>"
      ],
      "text/plain": [
       "         Group  % 0 to $24,999  % 25,000 to $49,999  % 50,000 to $74,999  \\\n",
       "0     Diabetes        0.344840             0.313718             0.103023   \n",
       "1  PreDiabetes        0.263453             0.308844             0.108095   \n",
       "2  No Diabetes        0.261761             0.318703             0.107430   \n",
       "\n",
       "   % 75,000 to $99,999  % $100,000 and Over  % Unknown  \n",
       "0             0.067251             0.104811   0.066357  \n",
       "1             0.094057             0.173608   0.051942  \n",
       "2             0.098250             0.160499   0.053356  "
      ]
     },
     "execution_count": 263,
     "metadata": {},
     "output_type": "execute_result"
    }
   ],
   "source": [
    "data = [['Diabetes',PctU24Yes,Pct49Yes,Pct74Yes,Pct99Yes,Pct100Yes,PctUYes],\n",
    "        ['PreDiabetes',PctU24pre,Pct49pre,Pct74pre,Pct99pre,Pct100pre,PctUpre],\n",
    "        ['No Diabetes',PctU24no,Pct49no,Pct74no,Pct99no,Pct100no,PctUno]]\n",
    "df_Inc = pd.DataFrame(data, columns = ['Group', '% 0 to $24,999', \"% 25,000 to $49,999\",'% 50,000 to $74,999',\n",
    "                                         '% 75,000 to $99,999','% $100,000 and Over','% Unknown'])\n",
    "df_Inc.head()"
   ]
  },
  {
   "cell_type": "code",
   "execution_count": 307,
   "metadata": {},
   "outputs": [
    {
     "data": {
      "text/plain": [
       "<function matplotlib.pyplot.show(*args, **kw)>"
      ]
     },
     "execution_count": 307,
     "metadata": {},
     "output_type": "execute_result"
    },
    {
     "data": {
      "image/png": "[encoded data removed]",
      "text/plain": [
       "<Figure size 432x360 with 1 Axes>"
      ]
     },
     "metadata": {
      "needs_background": "light"
     },
     "output_type": "display_data"
    }
   ],
   "source": [
    "pal = ['#d3e1ee','#b3cede','#85b2cd','#5c95bb', '#3874a5','#184375']\n",
    "\n",
    "ax = df_Inc.plot( x='Group',kind='bar', stacked=True,color=pal,align=\"center\",edgecolor='black')\n",
    "\n",
    "ax.spines['top'].set_visible(False)\n",
    "ax.spines['right'].set_visible(False)\n",
    "ax.set_title(label=\"Diabetes Profile by Income\", fontsize=15, loc='center')\n",
    "ax.set_xlabel(' ')\n",
    "ax.yaxis.set_major_formatter(FuncFormatter(lambda y, _: '{:.0%}'.format(y))) \n",
    "\n",
    "plt.legend(frameon=False, bbox_to_anchor=(1, 1),fontsize=12)\n",
    "plt.rcParams[\"figure.figsize\"] = [6, 5]\n",
    "#plt.rcParams[\"figure.autolayout\"] = True\n",
    "ax.set_xticks(range(len(df_Inc.Group)))\n",
    "plt.xticks(rotation=0,fontsize=10)\n",
    "plt.yticks(fontsize=10)\n",
    "#plt.savefig('IncProfile.png', bbox_inches='tight')\n",
    "plt.show"
   ]
  },
  {
   "cell_type": "code",
   "execution_count": null,
   "metadata": {},
   "outputs": [],
   "source": []
  }
 ],
 "metadata": {
  "kernelspec": {
   "display_name": "Python 3",
   "language": "python",
   "name": "python3"
  },
  "language_info": {
   "codemirror_mode": {
    "name": "ipython",
    "version": 3
   },
   "file_extension": ".py",
   "mimetype": "text/x-python",
   "name": "python",
   "nbconvert_exporter": "python",
   "pygments_lexer": "ipython3",
   "version": "3.7.6"
  }
 },
 "nbformat": 4,
 "nbformat_minor": 4
}
